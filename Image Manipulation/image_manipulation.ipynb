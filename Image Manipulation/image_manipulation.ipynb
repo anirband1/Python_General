{
 "cells": [
  {
   "cell_type": "markdown",
   "metadata": {},
   "source": [
    "- Image scale normalization\n",
    "- blurring ✅\n",
    "- shifting\n",
    "- merging?"
   ]
  },
  {
   "cell_type": "markdown",
   "metadata": {},
   "source": []
  },
  {
   "cell_type": "code",
   "execution_count": 228,
   "metadata": {},
   "outputs": [],
   "source": [
    "import matplotlib.image as mimg\n",
    "import matplotlib.pyplot as plt\n",
    "import numpy as np\n",
    "import math"
   ]
  },
  {
   "cell_type": "code",
   "execution_count": 229,
   "metadata": {},
   "outputs": [],
   "source": [
    "img1 = mimg.imread('Input Images/Spiral.jpg')\n",
    "img2 = mimg.imread('Input Images/Oogway_forest.jpg')"
   ]
  },
  {
   "cell_type": "code",
   "execution_count": 230,
   "metadata": {},
   "outputs": [],
   "source": [
    "# other functions\n",
    "\n",
    "# overlay dependency\n",
    "def avg_pixel_weighted(channel_val1, weight1, channel_val2, weight2):\n",
    "    adjusted_weight_total = weight1 + weight2\n",
    "    return ( (channel_val1 * weight1 + channel_val2 * weight2)/adjusted_weight_total)\n",
    "\n",
    "\n",
    "# blur dependency\n",
    "def avg_color_grid(img, blur_size, start_pixel):\n",
    "\n",
    "    r_total, g_total, b_total=0, 0, 0\n",
    "    x_dim, y_dim = start_pixel\n",
    "    counter = blur_size**2\n",
    "\n",
    "    for i in range(blur_size):\n",
    "        for j in range(blur_size):\n",
    "\n",
    "            r_total += img.item((x_dim + i, y_dim + j, 0))\n",
    "            g_total += img.item((x_dim + i, y_dim + j, 1))\n",
    "            b_total += img.item((x_dim + i, y_dim + j, 2))\n",
    "\n",
    "    return np.array((r_total / counter, g_total / counter, b_total / counter))\n"
   ]
  },
  {
   "cell_type": "code",
   "execution_count": 231,
   "metadata": {},
   "outputs": [],
   "source": [
    "# 2 image processing\n",
    "\n",
    "def overlay(img1, img2):\n",
    "    IMG1_WEIGHT = 1\n",
    "    IMG2_WEIGHT = 1\n",
    "    \n",
    "    max_x_size = max(img1.shape[0], img2.shape[0])\n",
    "    max_y_size = max(img1.shape[1], img2.shape[1])\n",
    "\n",
    "    new_img_arr = np.empty((max_x_size, max_y_size, 3))\n",
    "\n",
    "    for i in range(max_x_size):\n",
    "        for j in range(max_y_size):\n",
    "            for k in range(3):\n",
    "\n",
    "                new_img_arr[i, j, k] = avg_pixel_weighted(img1.item((i, j, k)), IMG1_WEIGHT, img2.item((i, j, k)), IMG2_WEIGHT) / 255  # 4 sec\n",
    "\n",
    "    return new_img_arr\n"
   ]
  },
  {
   "cell_type": "code",
   "execution_count": 370,
   "metadata": {},
   "outputs": [],
   "source": [
    "def mosaic(img):\n",
    "    # blur_size = int(input(\"Blur size: \"))\n",
    "    pixelate_amount = 25\n",
    "    # 2 - 17.8s\n",
    "    # 3 - 24.6s\n",
    "    # 5 - ~47s\n",
    "    # 10 - 2m 37.5s\n",
    "\n",
    "    height = img.shape[0]\n",
    "    width = img.shape[1]\n",
    "\n",
    "    new_img_arr = np.empty((height, width, 3))\n",
    "\n",
    "    for i in range(0, height - pixelate_amount, pixelate_amount):\n",
    "        for j in range(0, width - pixelate_amount, pixelate_amount):\n",
    "            color = avg_color_grid(img, pixelate_amount, (i, j)) / 255\n",
    "            \n",
    "            for _i in range(pixelate_amount):\n",
    "                for _j in range(pixelate_amount):\n",
    "                    new_img_arr[i + _i, j + _j] = color\n",
    "\n",
    "    return new_img_arr\n"
   ]
  },
  {
   "cell_type": "code",
   "execution_count": 360,
   "metadata": {},
   "outputs": [],
   "source": [
    "# BLUR\n",
    "\n",
    "def blur(img):\n",
    "    # blur_size = int(input(\"Blur size: \"))\n",
    "    blur_size = 5\n",
    "    # 2 - 17.8s\n",
    "    # 3 - 24.6s\n",
    "    # 5 - ~47s\n",
    "    # 10 - 2m 37.5s\n",
    "\n",
    "    height = img.shape[0]\n",
    "    width = img.shape[1]\n",
    "\n",
    "    new_img_arr = np.empty((height, width, 3))\n",
    "\n",
    "    for i in range(height - blur_size):\n",
    "        for j in range(width - blur_size):\n",
    "            new_img_arr[i, j] = avg_color_grid(img, blur_size, (i, j)) / 255\n",
    "\n",
    "    return new_img_arr\n"
   ]
  },
  {
   "cell_type": "code",
   "execution_count": 384,
   "metadata": {},
   "outputs": [],
   "source": [
    "# SHIFTING\n",
    "import random\n",
    "\n",
    "def shift(img):\n",
    "    # operation = int(input(\"what operation should be performed? (0:linear, 1:sin, 2:cos, 3:tan, 4:random)  \"))\n",
    "    operation = 1\n",
    "    multiplicant = 0\n",
    "\n",
    "    start_val = 0\n",
    "    START_OFFSET = 0\n",
    "    SHIFT_CONSTANT_X = 15\n",
    "    SHIFT_CONSTANT_Y = 15\n",
    "\n",
    "    height = img.shape[0]\n",
    "    width = img.shape[1]\n",
    "\n",
    "    new_img_arr = np.empty((height, width, 3))\n",
    "\n",
    "    for i in range(height):\n",
    "        for j in range(width):\n",
    "            for k in range(3):\n",
    "                if operation == 4:\n",
    "                    multiplicant = random.random() * 2 - 1  \n",
    "\n",
    "                new_img_arr[i, j, k] = img.item((\n",
    "                    ((int(multiplicant * SHIFT_CONSTANT_X)) + i + START_OFFSET) %\n",
    "                    height,\n",
    "                    ((int(multiplicant * SHIFT_CONSTANT_Y)) + j + START_OFFSET) %\n",
    "                    width, k)) / 255\n",
    "\n",
    "        multiplicant = start_val if operation == 0 else math.sin(start_val) if operation == 1 else math.cos(start_val) if operation == 2 else math.tan(start_val) if operation == 3 else 0\n",
    "\n",
    "        start_val+=1.6 # for sin or cos, min and max shift is from 0 to 1.5707 (π/2)\n",
    "\n",
    "    return new_img_arr\n"
   ]
  },
  {
   "cell_type": "code",
   "execution_count": 385,
   "metadata": {},
   "outputs": [],
   "source": [
    "# plt.imshow(shift(img2))\n",
    "# plt.imsave(\"Output Images/Distort/Sin.jpg\", shift(img2))\n",
    "plt.imsave(\"Output Images/Distort/delete.jpg\", shift(img2))"
   ]
  },
  {
   "cell_type": "code",
   "execution_count": null,
   "metadata": {},
   "outputs": [],
   "source": []
  }
 ],
 "metadata": {
  "kernelspec": {
   "display_name": "Python 3.7.6 64-bit",
   "metadata": {
    "interpreter": {
     "hash": "df955ce39d0f31d56d4bb2fe0a613e5326ba60723fd33d8303a3aede8f65715c"
    }
   },
   "name": "python3"
  },
  "language_info": {
   "codemirror_mode": {
    "name": "ipython",
    "version": 3
   },
   "file_extension": ".py",
   "mimetype": "text/x-python",
   "name": "python",
   "nbconvert_exporter": "python",
   "pygments_lexer": "ipython3",
   "version": "3.9.6"
  },
  "orig_nbformat": 2
 },
 "nbformat": 4,
 "nbformat_minor": 2
}
